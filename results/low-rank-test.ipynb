{
 "cells": [
  {
   "cell_type": "code",
   "execution_count": 1,
   "metadata": {},
   "outputs": [],
   "source": [
    "import numpy as np"
   ]
  },
  {
   "cell_type": "code",
   "execution_count": 61,
   "metadata": {},
   "outputs": [
    {
     "name": "stdout",
     "output_type": "stream",
     "text": [
      "rank 1, 2-Norm Error 1.391406e+02\n",
      "rank 2, 2-Norm Error 9.713238e+01\n",
      "rank 3, 2-Norm Error 5.430004e+01\n",
      "rank 4, 2-Norm Error 3.007012e+01\n",
      "rank 5, 2-Norm Error 1.976664e+01\n",
      "rank 6, 2-Norm Error 1.425800e+01\n",
      "rank 7, 2-Norm Error 7.059368e+00\n",
      "rank 8, 2-Norm Error 2.986265e+00\n",
      "rank 9, 2-Norm Error 1.091926e+00\n",
      "rank 10, 2-Norm Error 1.661934e-13\n",
      "\n",
      "rank 1, 2-Norm Error 1.391406e+02\n",
      "rank 2, 2-Norm Error 9.713238e+01\n",
      "rank 3, 2-Norm Error 5.430004e+01\n",
      "rank 4, 2-Norm Error 3.007012e+01\n",
      "rank 5, 2-Norm Error 1.976664e+01\n",
      "rank 6, 2-Norm Error 1.425800e+01\n",
      "rank 7, 2-Norm Error 7.059368e+00\n",
      "rank 8, 2-Norm Error 2.986265e+00\n",
      "rank 9, 2-Norm Error 1.091926e+00\n",
      "rank 10, 2-Norm Error 1.731978e-13\n"
     ]
    }
   ],
   "source": [
    "nPoints=16\n",
    "points = np.random.rand(nPoints,3)\n",
    "x=points[:,0]\n",
    "# y=points[:,1]\n",
    "# z=points[:,2]\n",
    "y = np.zeros(nPoints)\n",
    "z = np.zeros(nPoints)\n",
    "x = np.sort(x)\n",
    "# print(x)\n",
    "\n",
    "interactionMatrix = np.ones((nPoints,nPoints))\n",
    "\n",
    "for i in range(nPoints):\n",
    "    for j in range(nPoints):\n",
    "        if i!=j:\n",
    "            r = np.sqrt( (x[i]-x[j])**2 + (y[i]-y[j])**2 + (z[i]-z[j])**2 )\n",
    "            interactionMatrix[i,j] = 1/r\n",
    "        \n",
    "\n",
    "U, s, V = np.linalg.svd(interactionMatrix, full_matrices=False)\n",
    "S = np.zeros((nPoints,nPoints), dtype=complex)\n",
    "\n",
    "\n",
    "\n",
    "for rank in range(1,nPoints+1):\n",
    "    tempS=np.append(s[:rank],np.zeros(nPoints-rank))\n",
    "#     print(tempS)\n",
    "    S = np.diag(tempS)\n",
    "    reconstructed = np.dot(U, np.dot(S, V))\n",
    "    diff=interactionMatrix-reconstructed\n",
    "    print('rank %i, 2-Norm Error %e' %(rank,np.linalg.norm(diff)))\n",
    "print()\n",
    "\n",
    "reconstructed = np.zeros((nPoints, nPoints))\n",
    "for rank in range(nPoints):\n",
    "    reconstructed += s[rank] * np.outer(U.T[rank], V[rank])\n",
    "    diff=interactionMatrix-reconstructed\n",
    "    print('rank %i, 2-Norm Error %e' %(rank+1,np.linalg.norm(diff)))"
   ]
  },
  {
   "cell_type": "code",
   "execution_count": null,
   "metadata": {},
   "outputs": [],
   "source": []
  },
  {
   "cell_type": "code",
   "execution_count": null,
   "metadata": {},
   "outputs": [],
   "source": []
  }
 ],
 "metadata": {
  "kernelspec": {
   "display_name": "Python 3",
   "language": "python",
   "name": "python3"
  },
  "language_info": {
   "codemirror_mode": {
    "name": "ipython",
    "version": 3
   },
   "file_extension": ".py",
   "mimetype": "text/x-python",
   "name": "python",
   "nbconvert_exporter": "python",
   "pygments_lexer": "ipython3",
   "version": "3.6.8"
  }
 },
 "nbformat": 4,
 "nbformat_minor": 2
}
