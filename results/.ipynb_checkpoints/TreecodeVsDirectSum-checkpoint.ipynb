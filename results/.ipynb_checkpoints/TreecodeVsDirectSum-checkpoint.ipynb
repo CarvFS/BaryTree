{
 "cells": [
  {
   "cell_type": "code",
   "execution_count": 35,
   "metadata": {},
   "outputs": [],
   "source": [
    "## Imports\n",
    "%matplotlib notebook\n",
    "import pandas as pd\n",
    "import matplotlib.pyplot as plt\n",
    "from matplotlib.pyplot import cm\n",
    "from cycler import cycler\n",
    "import os\n",
    "import numpy as np"
   ]
  },
  {
   "cell_type": "code",
   "execution_count": 36,
   "metadata": {
    "code_folding": [
     0
    ]
   },
   "outputs": [],
   "source": [
    "## Setup headers and fonts\n",
    "\n",
    "plt.rc('font', **{'family': 'serif', 'serif': ['Computer Modern']})        # use LaTeX\n",
    "\n",
    "from matplotlib import rcParams\n",
    "rcParams['font.family'] = 'serif'\n",
    "rcParams['font.serif'] = ['Computer Modern']\n",
    "rcParams.update({'font.size': 12})\n",
    "\n",
    "\n",
    "\n",
    "Header = [\"Sources\", \"Targets\", \"DirectSumComparison\",\"NumSources\",\"NumTargets\",\"Theta\",\"Order\",\"TreeType\",\"MaxParNode\", \"BatchSize\", \"Kappa\",\n",
    "          \"PotentialType\",\"sflag\",\"pflag\",\"p\",\"time_preproc\", \"TreeBuildTime\", \"time2\", \"time3\", \"time4\", \"time5\",\n",
    "          \"time6\", \"time7\", \"time8\", \"time9\", \"time10\", \"time11\", \"TreecodeTime\", \"time13\",\n",
    "          \"dpengglob\", \"tpengglob\", \"abs_pengerr\", \"RelativeError\", \"inferr\", \"relinferr\", \"2-norm Error\", \"Rel. 2-Norm Error\", \"NumDevices\"]"
   ]
  },
  {
   "cell_type": "code",
   "execution_count": 37,
   "metadata": {
    "code_folding": []
   },
   "outputs": [],
   "source": [
    "## Load Dataframe\n",
    "\n",
    "resultsFile='TitanV_Coulomb_1000000.csv' \n",
    "resultsDir='/Users/nathanvaughn/Documents/synchronizedDataFiles/KITCpaperData/gpu_vs_cpu/'\n",
    "directSumTime=774.8\n",
    "directSumTime=11.6\n",
    "df = pd.read_csv(resultsDir + resultsFile, names=Header)"
   ]
  },
  {
   "cell_type": "code",
   "execution_count": 38,
   "metadata": {},
   "outputs": [],
   "source": [
    "df;"
   ]
  },
  {
   "cell_type": "code",
   "execution_count": 44,
   "metadata": {
    "code_folding": []
   },
   "outputs": [],
   "source": [
    "## Plotting functions\n",
    "\n",
    "def logAversusLogBcolorbyC(df,A,B,C,hlines={},save=False):\n",
    "    custom_cycler = (cycler(color=['r', 'g', 'b']) +\n",
    "                  cycler(linestyle=['--', '--', '--']))\n",
    "\n",
    "    plt.rc('lines', linewidth=1)\n",
    "    plt.rc('axes', prop_cycle=default_cycler)\n",
    "    \n",
    "    \n",
    "    df = df.sort_values(by=B)\n",
    "    fig, ax = plt.subplots(figsize=(8,6))\n",
    "\n",
    "#     ax.set_prop_cycle(custom_cycler)\n",
    "    grouped = df.groupby(C)\n",
    "    for name,group in grouped:\n",
    "        if isinstance(name,str):\n",
    "            group.plot(x=B, y=A, style='o-', ax=ax, loglog=True,label='%s = %s'%(C,name))\n",
    "        elif isinstance(name,float):\n",
    "            group.plot(x=B, y=A, style='o-', ax=ax, loglog=True,label='%s = %f'%(C,name))\n",
    "        elif isinstance(name,int):\n",
    "            group.plot(x=B, y=A, style='o-', ax=ax, loglog=True,label='%s = %i'%(C,name))\n",
    "        \n",
    "    plt.xlabel(B)\n",
    "    plt.ylabel(A)\n",
    "    \n",
    "    for hline in hlines:\n",
    "#     plt.axhline(y=62.6, color='r', linestyle='-')\n",
    "        plt.axhline(y=hline, color='r', linestyle='-')\n",
    "\n",
    "\n",
    "    plt.grid()\n",
    "#     plt.ylim([20,100])\n",
    "    \n",
    "    plt.legend(loc = 'best')\n",
    "\n",
    "    if save == True:\n",
    "        saveID = 'log'+A+'VsLog'+B+'ColoredBy'+C\n",
    "        plt.savefig(plotsDir+saveID+'.pdf', bbox_inches='tight',format='pdf')\n",
    "    plt.show()"
   ]
  },
  {
   "cell_type": "code",
   "execution_count": 45,
   "metadata": {},
   "outputs": [
    {
     "ename": "NameError",
     "evalue": "name 'default_cycler' is not defined",
     "output_type": "error",
     "traceback": [
      "\u001b[0;31m---------------------------------------------------------------------------\u001b[0m",
      "\u001b[0;31mNameError\u001b[0m                                 Traceback (most recent call last)",
      "\u001b[0;32m<ipython-input-45-fe06d9fd2975>\u001b[0m in \u001b[0;36m<module>\u001b[0;34m\u001b[0m\n\u001b[1;32m      2\u001b[0m \u001b[0;31m# df2 = df.loc[df['NumTargets']==4727912]\u001b[0m\u001b[0;34m\u001b[0m\u001b[0;34m\u001b[0m\u001b[0;34m\u001b[0m\u001b[0m\n\u001b[1;32m      3\u001b[0m \u001b[0;34m\u001b[0m\u001b[0m\n\u001b[0;32m----> 4\u001b[0;31m \u001b[0mlogAversusLogBcolorbyC\u001b[0m\u001b[0;34m(\u001b[0m\u001b[0mdf\u001b[0m\u001b[0;34m,\u001b[0m\u001b[0;34m'TreecodeTime'\u001b[0m\u001b[0;34m,\u001b[0m\u001b[0;34m'Rel. 2-Norm Error'\u001b[0m\u001b[0;34m,\u001b[0m\u001b[0;34m'Theta'\u001b[0m\u001b[0;34m,\u001b[0m\u001b[0mhlines\u001b[0m\u001b[0;34m=\u001b[0m\u001b[0;34m{\u001b[0m\u001b[0;36m11.6\u001b[0m\u001b[0;34m}\u001b[0m\u001b[0;34m)\u001b[0m\u001b[0;34m\u001b[0m\u001b[0;34m\u001b[0m\u001b[0m\n\u001b[0m",
      "\u001b[0;32m<ipython-input-44-f6fd02487dec>\u001b[0m in \u001b[0;36mlogAversusLogBcolorbyC\u001b[0;34m(df, A, B, C, hlines, save)\u001b[0m\n\u001b[1;32m      6\u001b[0m \u001b[0;34m\u001b[0m\u001b[0m\n\u001b[1;32m      7\u001b[0m     \u001b[0mplt\u001b[0m\u001b[0;34m.\u001b[0m\u001b[0mrc\u001b[0m\u001b[0;34m(\u001b[0m\u001b[0;34m'lines'\u001b[0m\u001b[0;34m,\u001b[0m \u001b[0mlinewidth\u001b[0m\u001b[0;34m=\u001b[0m\u001b[0;36m1\u001b[0m\u001b[0;34m)\u001b[0m\u001b[0;34m\u001b[0m\u001b[0;34m\u001b[0m\u001b[0m\n\u001b[0;32m----> 8\u001b[0;31m     \u001b[0mplt\u001b[0m\u001b[0;34m.\u001b[0m\u001b[0mrc\u001b[0m\u001b[0;34m(\u001b[0m\u001b[0;34m'axes'\u001b[0m\u001b[0;34m,\u001b[0m \u001b[0mprop_cycle\u001b[0m\u001b[0;34m=\u001b[0m\u001b[0mdefault_cycler\u001b[0m\u001b[0;34m)\u001b[0m\u001b[0;34m\u001b[0m\u001b[0;34m\u001b[0m\u001b[0m\n\u001b[0m\u001b[1;32m      9\u001b[0m \u001b[0;34m\u001b[0m\u001b[0m\n\u001b[1;32m     10\u001b[0m \u001b[0;34m\u001b[0m\u001b[0m\n",
      "\u001b[0;31mNameError\u001b[0m: name 'default_cycler' is not defined"
     ]
    }
   ],
   "source": [
    "# df2 = df.loc[df['NumTargets']==1328096]\n",
    "# df2 = df.loc[df['NumTargets']==4727912]\n",
    "\n",
    "logAversusLogBcolorbyC(df,'TreecodeTime','Rel. 2-Norm Error','Theta',hlines={11.6})\n"
   ]
  },
  {
   "cell_type": "code",
   "execution_count": null,
   "metadata": {},
   "outputs": [],
   "source": []
  }
 ],
 "metadata": {
  "kernelspec": {
   "display_name": "Python 3",
   "language": "python",
   "name": "python3"
  },
  "language_info": {
   "codemirror_mode": {
    "name": "ipython",
    "version": 3
   },
   "file_extension": ".py",
   "mimetype": "text/x-python",
   "name": "python",
   "nbconvert_exporter": "python",
   "pygments_lexer": "ipython3",
   "version": "3.6.8"
  }
 },
 "nbformat": 4,
 "nbformat_minor": 2
}
